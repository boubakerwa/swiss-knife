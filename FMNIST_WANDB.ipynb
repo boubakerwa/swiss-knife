{
 "cells": [
  {
   "cell_type": "code",
   "execution_count": 9,
   "metadata": {},
   "outputs": [],
   "source": [
    "\"\"\"\n",
    "This Weights & Biases sample script trains a basic CNN on the\n",
    "Fashion-MNIST dataset. It takes black and white images of clothing\n",
    "and labels them as \"pants\", \"belt\", etc. This script is designed\n",
    "to demonstrate the wandb integration with Keras.\n",
    "\"\"\"\n",
    "\n",
    "from keras.datasets import fashion_mnist\n",
    "from keras.models import Sequential\n",
    "from keras.layers import Conv2D, MaxPooling2D, Dropout, Dense, Flatten\n",
    "from keras.utils import np_utils\n",
    "from keras.optimizers import SGD\n",
    "from keras.callbacks import TensorBoard\n",
    "import random"
   ]
  },
  {
   "cell_type": "code",
   "execution_count": 10,
   "metadata": {},
   "outputs": [],
   "source": [
    "#Import wandb libraries\n",
    "import wandb\n",
    "from wandb.keras import WandbCallback"
   ]
  },
  {
   "cell_type": "code",
   "execution_count": 11,
   "metadata": {},
   "outputs": [
    {
     "data": {
      "text/html": [
       "Finishing last run (ID:n0dkv6k2) before initializing another..."
      ],
      "text/plain": [
       "<IPython.core.display.HTML object>"
      ]
     },
     "metadata": {},
     "output_type": "display_data"
    },
    {
     "data": {
      "text/html": [
       "<br/>Waiting for W&B process to finish, PID 320<br/>Program ended successfully."
      ],
      "text/plain": [
       "<IPython.core.display.HTML object>"
      ]
     },
     "metadata": {},
     "output_type": "display_data"
    },
    {
     "data": {
      "application/vnd.jupyter.widget-view+json": {
       "model_id": "c7bdbf746e364b668c96ade062e18f5b",
       "version_major": 2,
       "version_minor": 0
      },
      "text/plain": [
       "VBox(children=(Label(value=' 0.00MB of 0.00MB uploaded (0.00MB deduped)\\r'), FloatProgress(value=1.0, max=1.0)…"
      ]
     },
     "metadata": {},
     "output_type": "display_data"
    },
    {
     "data": {
      "text/html": [
       "Find user logs for this run at: <code>C:\\Users\\BOUBAW\\OneDrive - NTT DATA EMEA\\Desktop\\Peronal\\Master Thesis\\dev\\swiss-knife\\wandb\\run-20210424_024027-n0dkv6k2\\logs\\debug.log</code>"
      ],
      "text/plain": [
       "<IPython.core.display.HTML object>"
      ]
     },
     "metadata": {},
     "output_type": "display_data"
    },
    {
     "data": {
      "text/html": [
       "Find internal logs for this run at: <code>C:\\Users\\BOUBAW\\OneDrive - NTT DATA EMEA\\Desktop\\Peronal\\Master Thesis\\dev\\swiss-knife\\wandb\\run-20210424_024027-n0dkv6k2\\logs\\debug-internal.log</code>"
      ],
      "text/plain": [
       "<IPython.core.display.HTML object>"
      ]
     },
     "metadata": {},
     "output_type": "display_data"
    },
    {
     "data": {
      "text/html": [
       "Synced 5 W&B file(s), 0 media file(s), 0 artifact file(s) and 0 other file(s)"
      ],
      "text/plain": [
       "<IPython.core.display.HTML object>"
      ]
     },
     "metadata": {},
     "output_type": "display_data"
    },
    {
     "data": {
      "text/html": [
       "\n",
       "                    <br/>Synced <strong style=\"color:#cdcd00\">LBFGS</strong>: <a href=\"https://wandb.ai/wassimboubaker/neural-style/runs/n0dkv6k2\" target=\"_blank\">https://wandb.ai/wassimboubaker/neural-style/runs/n0dkv6k2</a><br/>\n",
       "                "
      ],
      "text/plain": [
       "<IPython.core.display.HTML object>"
      ]
     },
     "metadata": {},
     "output_type": "display_data"
    },
    {
     "data": {
      "text/html": [
       "...Successfully finished last run (ID:n0dkv6k2). Initializing new run:<br/><br/>"
      ],
      "text/plain": [
       "<IPython.core.display.HTML object>"
      ]
     },
     "metadata": {},
     "output_type": "display_data"
    },
    {
     "data": {
      "text/html": [
       "\n",
       "                Tracking run with wandb version 0.10.27<br/>\n",
       "                Syncing run <strong style=\"color:#cdcd00\">prime-salad-1</strong> to <a href=\"https://wandb.ai\" target=\"_blank\">Weights & Biases</a> <a href=\"https://docs.wandb.com/integrations/jupyter.html\" target=\"_blank\">(Documentation)</a>.<br/>\n",
       "                Project page: <a href=\"https://wandb.ai/wassimboubaker/sample-project\" target=\"_blank\">https://wandb.ai/wassimboubaker/sample-project</a><br/>\n",
       "                Run page: <a href=\"https://wandb.ai/wassimboubaker/sample-project/runs/16iz3wyg\" target=\"_blank\">https://wandb.ai/wassimboubaker/sample-project/runs/16iz3wyg</a><br/>\n",
       "                Run data is saved locally in <code>C:\\Users\\BOUBAW\\OneDrive - NTT DATA EMEA\\Desktop\\Peronal\\Master Thesis\\dev\\swiss-knife\\wandb\\run-20210424_032653-16iz3wyg</code><br/><br/>\n",
       "            "
      ],
      "text/plain": [
       "<IPython.core.display.HTML object>"
      ]
     },
     "metadata": {},
     "output_type": "display_data"
    }
   ],
   "source": [
    "# Initialize wandb and save hyperparameters\n",
    "wandb.init(\n",
    "  project=\"sample-project\",\n",
    "  config={\n",
    "    \"dropout\": 0.2,\n",
    "    \"hidden_layer_size\": 128,\n",
    "    \"layer_1_size\": 16,\n",
    "    \"layer_2_size\": 32,\n",
    "    \"learn_rate\": 0.01,\n",
    "    \"decay\": 1e-6,\n",
    "    \"momentum\": 0.9,\n",
    "    \"epochs\": 8 }\n",
    ")\n",
    "config = wandb.config"
   ]
  },
  {
   "cell_type": "code",
   "execution_count": 12,
   "metadata": {},
   "outputs": [],
   "source": [
    "(X_train_orig, y_train_orig), (X_test, y_test) = fashion_mnist.load_data()"
   ]
  },
  {
   "cell_type": "code",
   "execution_count": 13,
   "metadata": {},
   "outputs": [],
   "source": [
    "# Reducing the dataset size to 10,000 examples for faster train time\n",
    "true = list(map(lambda x: True if random.random() < 0.167 else False, range(60000)))\n",
    "ind = []\n",
    "for i, x in enumerate(true):\n",
    "    if x == True: ind.append(i)"
   ]
  },
  {
   "cell_type": "code",
   "execution_count": 14,
   "metadata": {},
   "outputs": [],
   "source": [
    "X_train = X_train_orig[ind, :, :]\n",
    "y_train = y_train_orig[ind]"
   ]
  },
  {
   "cell_type": "code",
   "execution_count": 15,
   "metadata": {},
   "outputs": [],
   "source": [
    "img_width=28\n",
    "img_height=28\n",
    "labels =[\"T-shirt/top\",\"Trouser\",\"Pullover\",\"Dress\",\n",
    "    \"Coat\",\"Sandal\",\"Shirt\",\"Sneaker\",\"Bag\",\"Ankle boot\"]"
   ]
  },
  {
   "cell_type": "code",
   "execution_count": 16,
   "metadata": {},
   "outputs": [],
   "source": [
    "X_train = X_train.astype('float32')\n",
    "X_train /= 255.\n",
    "X_test = X_test.astype('float32')\n",
    "X_test /= 255."
   ]
  },
  {
   "cell_type": "code",
   "execution_count": 17,
   "metadata": {},
   "outputs": [],
   "source": [
    "#reshape input data\n",
    "X_train = X_train.reshape(X_train.shape[0], img_width, img_height, 1)\n",
    "X_test = X_test.reshape(X_test.shape[0], img_width, img_height, 1)\n",
    "\n",
    "# one hot encode outputs\n",
    "y_train = np_utils.to_categorical(y_train)\n",
    "y_test = np_utils.to_categorical(y_test)\n",
    "num_classes = y_test.shape[1]"
   ]
  },
  {
   "cell_type": "code",
   "execution_count": 22,
   "metadata": {},
   "outputs": [
    {
     "name": "stdout",
     "output_type": "stream",
     "text": [
      "Epoch 1/5\n",
      "316/316 [==============================] - 5s 15ms/step - loss: 1.3014 - accuracy: 0.5289 - val_loss: 0.8151 - val_accuracy: 0.7099\n",
      "Epoch 2/5\n",
      "316/316 [==============================] - 6s 18ms/step - loss: 0.7789 - accuracy: 0.7061 - val_loss: 0.6942 - val_accuracy: 0.7410\n",
      "Epoch 3/5\n",
      "316/316 [==============================] - 6s 20ms/step - loss: 0.7237 - accuracy: 0.7218 - val_loss: 0.6300 - val_accuracy: 0.7350\n",
      "Epoch 4/5\n",
      "316/316 [==============================] - 7s 21ms/step - loss: 0.6746 - accuracy: 0.7492 - val_loss: 0.6034 - val_accuracy: 0.7680\n",
      "Epoch 5/5\n",
      "316/316 [==============================] - 7s 22ms/step - loss: 0.6592 - accuracy: 0.7473 - val_loss: 0.6403 - val_accuracy: 0.7626\n"
     ]
    },
    {
     "data": {
      "text/plain": [
       "<tensorflow.python.keras.callbacks.History at 0x24fa47980f0>"
      ]
     },
     "execution_count": 22,
     "metadata": {},
     "output_type": "execute_result"
    }
   ],
   "source": [
    "sgd = SGD(lr=config.learn_rate, decay=config.decay, momentum=config.momentum,\n",
    "                            nesterov=True)\n",
    "\n",
    "# build model\n",
    "model = Sequential()\n",
    "model.add(Conv2D(config.layer_1_size, (5, 5), activation='relu',\n",
    "                            input_shape=(img_width, img_height,1)))\n",
    "model.add(MaxPooling2D(pool_size=(2, 2)))\n",
    "model.add(Conv2D(config.layer_2_size, (5, 5), activation='relu'))\n",
    "model.add(MaxPooling2D(pool_size=(2, 2)))\n",
    "model.add(Dropout(config.dropout))\n",
    "model.add(Flatten())\n",
    "model.add(Dense(config.hidden_layer_size, activation='relu'))\n",
    "model.add(Dense(num_classes, activation='softmax'))\n",
    "\n",
    "#Add Keras WandbCallback\n",
    "model.compile(loss='categorical_crossentropy', optimizer=sgd, metrics=['accuracy'])\n",
    "model.fit(X_train, y_train,  validation_data=(X_test, y_test), epochs=config.epochs,\n",
    "    callbacks=[WandbCallback(data_type=\"image\", labels=labels)])"
   ]
  },
  {
   "cell_type": "code",
   "execution_count": 21,
   "metadata": {},
   "outputs": [
    {
     "data": {
      "text/html": [
       "Finishing last run (ID:16iz3wyg) before initializing another..."
      ],
      "text/plain": [
       "<IPython.core.display.HTML object>"
      ]
     },
     "metadata": {},
     "output_type": "display_data"
    },
    {
     "data": {
      "text/html": [
       "<br/>Waiting for W&B process to finish, PID 4948<br/>Program ended successfully."
      ],
      "text/plain": [
       "<IPython.core.display.HTML object>"
      ]
     },
     "metadata": {},
     "output_type": "display_data"
    },
    {
     "data": {
      "application/vnd.jupyter.widget-view+json": {
       "model_id": "3511061df1804fe8a000b004f5bfda1a",
       "version_major": 2,
       "version_minor": 0
      },
      "text/plain": [
       "VBox(children=(Label(value=' 0.79MB of 0.79MB uploaded (0.00MB deduped)\\r'), FloatProgress(value=1.0, max=1.0)…"
      ]
     },
     "metadata": {},
     "output_type": "display_data"
    },
    {
     "data": {
      "text/html": [
       "Find user logs for this run at: <code>C:\\Users\\BOUBAW\\OneDrive - NTT DATA EMEA\\Desktop\\Peronal\\Master Thesis\\dev\\swiss-knife\\wandb\\run-20210424_032653-16iz3wyg\\logs\\debug.log</code>"
      ],
      "text/plain": [
       "<IPython.core.display.HTML object>"
      ]
     },
     "metadata": {},
     "output_type": "display_data"
    },
    {
     "data": {
      "text/html": [
       "Find internal logs for this run at: <code>C:\\Users\\BOUBAW\\OneDrive - NTT DATA EMEA\\Desktop\\Peronal\\Master Thesis\\dev\\swiss-knife\\wandb\\run-20210424_032653-16iz3wyg\\logs\\debug-internal.log</code>"
      ],
      "text/plain": [
       "<IPython.core.display.HTML object>"
      ]
     },
     "metadata": {},
     "output_type": "display_data"
    },
    {
     "data": {
      "text/html": [
       "<h3>Run summary:</h3><br/><style>\n",
       "    table.wandb td:nth-child(1) { padding: 0 10px; text-align: right }\n",
       "    </style><table class=\"wandb\">\n",
       "<tr><td>epoch</td><td>7</td></tr><tr><td>loss</td><td>0.36187</td></tr><tr><td>accuracy</td><td>0.86241</td></tr><tr><td>val_loss</td><td>0.41482</td></tr><tr><td>val_accuracy</td><td>0.8485</td></tr><tr><td>_runtime</td><td>798</td></tr><tr><td>_timestamp</td><td>1619228416</td></tr><tr><td>_step</td><td>7</td></tr><tr><td>best_val_loss</td><td>0.40083</td></tr><tr><td>best_epoch</td><td>5</td></tr></table>"
      ],
      "text/plain": [
       "<IPython.core.display.HTML object>"
      ]
     },
     "metadata": {},
     "output_type": "display_data"
    },
    {
     "data": {
      "text/html": [
       "<h3>Run history:</h3><br/><style>\n",
       "    table.wandb td:nth-child(1) { padding: 0 10px; text-align: right }\n",
       "    </style><table class=\"wandb\">\n",
       "<tr><td>epoch</td><td>▁▂▃▄▅▆▇█</td></tr><tr><td>loss</td><td>█▃▂▂▂▁▁▁</td></tr><tr><td>accuracy</td><td>▁▆▇▇▇███</td></tr><tr><td>val_loss</td><td>██▄▃▃▁▂▁</td></tr><tr><td>val_accuracy</td><td>▁▁▅▅▇█▇█</td></tr><tr><td>_runtime</td><td>▁▂▃▄▅▆▇█</td></tr><tr><td>_timestamp</td><td>▁▂▃▄▅▆▇█</td></tr><tr><td>_step</td><td>▁▂▃▄▅▆▇█</td></tr></table><br/>"
      ],
      "text/plain": [
       "<IPython.core.display.HTML object>"
      ]
     },
     "metadata": {},
     "output_type": "display_data"
    },
    {
     "data": {
      "text/html": [
       "Synced 6 W&B file(s), 289 media file(s), 0 artifact file(s) and 1 other file(s)"
      ],
      "text/plain": [
       "<IPython.core.display.HTML object>"
      ]
     },
     "metadata": {},
     "output_type": "display_data"
    },
    {
     "data": {
      "text/html": [
       "\n",
       "                    <br/>Synced <strong style=\"color:#cdcd00\">prime-salad-1</strong>: <a href=\"https://wandb.ai/wassimboubaker/sample-project/runs/16iz3wyg\" target=\"_blank\">https://wandb.ai/wassimboubaker/sample-project/runs/16iz3wyg</a><br/>\n",
       "                "
      ],
      "text/plain": [
       "<IPython.core.display.HTML object>"
      ]
     },
     "metadata": {},
     "output_type": "display_data"
    },
    {
     "data": {
      "text/html": [
       "...Successfully finished last run (ID:16iz3wyg). Initializing new run:<br/><br/>"
      ],
      "text/plain": [
       "<IPython.core.display.HTML object>"
      ]
     },
     "metadata": {},
     "output_type": "display_data"
    },
    {
     "data": {
      "text/html": [
       "\n",
       "                Tracking run with wandb version 0.10.27<br/>\n",
       "                Syncing run <strong style=\"color:#cdcd00\">soft-forest-2</strong> to <a href=\"https://wandb.ai\" target=\"_blank\">Weights & Biases</a> <a href=\"https://docs.wandb.com/integrations/jupyter.html\" target=\"_blank\">(Documentation)</a>.<br/>\n",
       "                Project page: <a href=\"https://wandb.ai/wassimboubaker/sample-project\" target=\"_blank\">https://wandb.ai/wassimboubaker/sample-project</a><br/>\n",
       "                Run page: <a href=\"https://wandb.ai/wassimboubaker/sample-project/runs/1kxunmc9\" target=\"_blank\">https://wandb.ai/wassimboubaker/sample-project/runs/1kxunmc9</a><br/>\n",
       "                Run data is saved locally in <code>C:\\Users\\BOUBAW\\OneDrive - NTT DATA EMEA\\Desktop\\Peronal\\Master Thesis\\dev\\swiss-knife\\wandb\\run-20210424_034913-1kxunmc9</code><br/><br/>\n",
       "            "
      ],
      "text/plain": [
       "<IPython.core.display.HTML object>"
      ]
     },
     "metadata": {},
     "output_type": "display_data"
    }
   ],
   "source": [
    "wandb.init(\n",
    "  project=\"sample-project\",\n",
    "  config={\n",
    "    \"dropout\": 0.4,\n",
    "    \"hidden_layer_size\": 256,\n",
    "    \"layer_1_size\": 16,\n",
    "    \"layer_2_size\": 32,\n",
    "    \"learn_rate\": 0.1,\n",
    "    \"decay\": 1e-6,\n",
    "    \"momentum\": 0.9,\n",
    "    \"epochs\": 5 }\n",
    ")\n",
    "config = wandb.config"
   ]
  }
 ],
 "metadata": {
  "kernelspec": {
   "display_name": "aws-env",
   "language": "python",
   "name": "aws-env"
  },
  "language_info": {
   "codemirror_mode": {
    "name": "ipython",
    "version": 3
   },
   "file_extension": ".py",
   "mimetype": "text/x-python",
   "name": "python",
   "nbconvert_exporter": "python",
   "pygments_lexer": "ipython3",
   "version": "3.6.10"
  }
 },
 "nbformat": 4,
 "nbformat_minor": 4
}
